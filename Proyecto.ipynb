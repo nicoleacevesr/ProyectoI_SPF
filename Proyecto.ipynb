{
 "cells": [
  {
   "cell_type": "markdown",
   "metadata": {},
   "source": [
    "\n",
    "# <center>  <p style = \"font-family: Times; font-size:1.3em;color:gray;\"> Simulación de Procesos Financieros: Proyecto I </p> </center>\n",
    "<img style=\"float: right; margin: auto;\" src=\"https://www.ambulante.org/wp-content/uploads/2019/03/logos_web_Jalisco_ITESOJesuita.png\" width=\"350\" height=\"220\" />\n",
    "\n",
    "> <p style = \"font-family: Courier; font-size:0.8em;color:blue;\" > Equipo 7: Nicole | Rodrigo | Violeta </p>\n",
    "\n",
    "<p style = \"font-family: Times; font-size:1.0em;color:black;\"> El término \"simulación\" hace alusión a una técnica numérica que se utiliza para realizar experimentos en una computadora digital. Estos experimentos involucran ciertos tipos de modelos matemáticos y lógicos, los cuales a su vez intetan ser una representación de la realidad </p>\n"
   ]
  },
  {
   "cell_type": "markdown",
   "metadata": {},
   "source": [
    "## <center><p style = \"font-family: Times; font-size:1.3em;color:gold;\"> Simulación de un portafolio de Inversión de 4 activos</p></center>\n",
    "<img style =\"display: block; margin: auto;\" src=\"https://encrypted-tbn0.gstatic.com/images?q=tbn%3AANd9GcQjuIcXakH6Z7K_-HsvolyeqLnFOY4GYLHzW_8G54Sf91s3yUw3 \" width=\"440\" height=\"150\" />\n",
    "\n"
   ]
  },
  {
   "cell_type": "markdown",
   "metadata": {},
   "source": []
  },
  {
   "cell_type": "code",
   "execution_count": 1,
   "metadata": {},
   "outputs": [],
   "source": [
    "import pandas as pd\n",
    "import numpy as np\n",
    "import datetime as dt\n",
    "from dateutil import parser\n",
    "from pandas_datareader import data\n",
    "from dateutil.relativedelta import relativedelta\n",
    "# En terminal: pip install pandas_datareader\n"
   ]
  },
  {
   "cell_type": "code",
   "execution_count": 2,
   "metadata": {},
   "outputs": [],
   "source": [
    "end_date=dt.datetime.today()\n",
    "\n",
    "begdate = end_date + relativedelta(years=-1)\n",
    "\n",
    "DowJ = data.get_data_yahoo('^DJI', begdate, end_date, interval='m')"
   ]
  },
  {
   "cell_type": "code",
   "execution_count": 3,
   "metadata": {},
   "outputs": [
    {
     "name": "stdout",
     "output_type": "stream",
     "text": [
      "                    High           Low          Open         Close  \\\n",
      "Date                                                                 \n",
      "2018-11-01  26277.820312  24268.740234  25142.080078  25538.460938   \n",
      "2018-12-01  25980.210938  21712.529297  25779.570312  23327.460938   \n",
      "2019-01-01  25109.619141  22638.410156  23058.609375  24999.669922   \n",
      "2019-02-01  26241.419922  24883.039062  25025.310547  25916.000000   \n",
      "2019-03-01  26155.980469  25208.000000  26019.669922  25928.679688   \n",
      "2019-04-01  26695.960938  26062.589844  26075.099609  26592.910156   \n",
      "2019-05-01  26689.390625  24809.509766  26639.060547  24815.039062   \n",
      "2019-06-01  26907.369141  24680.570312  24830.160156  26599.960938   \n",
      "2019-07-01  27398.679688  26616.210938  26805.859375  26864.269531   \n",
      "2019-08-01  27175.589844  25339.599609  26879.859375  26403.279297   \n",
      "2019-09-01  27306.730469  25978.220703  26198.259766  26916.830078   \n",
      "2019-10-01  27046.210938  25743.460938  26962.539062  26787.359375   \n",
      "2019-10-15  27120.109375  26811.199219  26811.199219  27024.800781   \n",
      "\n",
      "                Volume     Adj Close  \n",
      "Date                                  \n",
      "2018-11-01  7226940000  25538.460938  \n",
      "2018-12-01  8101540000  23327.460938  \n",
      "2019-01-01  7189200000  24999.669922  \n",
      "2019-02-01  5434540000  25916.000000  \n",
      "2019-03-01  6637700000  25928.679688  \n",
      "2019-04-01  5854600000  26592.910156  \n",
      "2019-05-01  6358230000  24815.039062  \n",
      "2019-06-01  5544390000  26599.960938  \n",
      "2019-07-01  5207470000  26864.269531  \n",
      "2019-08-01  8170730000  26403.279297  \n",
      "2019-09-01  5045520000  26916.830078  \n",
      "2019-10-01  2340900000  26787.359375  \n",
      "2019-10-15   247477217  27024.800781  \n"
     ]
    }
   ],
   "source": [
    "print(DowJ)"
   ]
  },
  {
   "cell_type": "code",
   "execution_count": null,
   "metadata": {},
   "outputs": [],
   "source": []
  }
 ],
 "metadata": {
  "kernelspec": {
   "display_name": "Python 3",
   "language": "python",
   "name": "python3"
  },
  "language_info": {
   "codemirror_mode": {
    "name": "ipython",
    "version": 3
   },
   "file_extension": ".py",
   "mimetype": "text/x-python",
   "name": "python",
   "nbconvert_exporter": "python",
   "pygments_lexer": "ipython3",
   "version": "3.7.3"
  }
 },
 "nbformat": 4,
 "nbformat_minor": 2
}
